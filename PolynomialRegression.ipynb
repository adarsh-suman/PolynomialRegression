{
 "cells": [
  {
   "cell_type": "markdown",
   "id": "b4a5d71a",
   "metadata": {},
   "source": [
    "# Importing Libraries"
   ]
  },
  {
   "cell_type": "code",
   "execution_count": 70,
   "id": "898988ad",
   "metadata": {},
   "outputs": [],
   "source": [
    "import pandas as pd\n",
    "import matplotlib.pyplot as plt\n",
    "import numpy as np\n",
    "from sklearn.linear_model import LinearRegression"
   ]
  },
  {
   "cell_type": "markdown",
   "id": "160d2503",
   "metadata": {},
   "source": [
    "# Importing Dataset"
   ]
  },
  {
   "cell_type": "code",
   "execution_count": 71,
   "id": "a297c0b2",
   "metadata": {},
   "outputs": [
    {
     "data": {
      "text/html": [
       "<div>\n",
       "<style scoped>\n",
       "    .dataframe tbody tr th:only-of-type {\n",
       "        vertical-align: middle;\n",
       "    }\n",
       "\n",
       "    .dataframe tbody tr th {\n",
       "        vertical-align: top;\n",
       "    }\n",
       "\n",
       "    .dataframe thead th {\n",
       "        text-align: right;\n",
       "    }\n",
       "</style>\n",
       "<table border=\"1\" class=\"dataframe\">\n",
       "  <thead>\n",
       "    <tr style=\"text-align: right;\">\n",
       "      <th></th>\n",
       "      <th>Position</th>\n",
       "      <th>Level</th>\n",
       "      <th>Salary</th>\n",
       "    </tr>\n",
       "  </thead>\n",
       "  <tbody>\n",
       "    <tr>\n",
       "      <th>0</th>\n",
       "      <td>Business Analyst</td>\n",
       "      <td>1</td>\n",
       "      <td>45000</td>\n",
       "    </tr>\n",
       "    <tr>\n",
       "      <th>1</th>\n",
       "      <td>Junior Consultant</td>\n",
       "      <td>2</td>\n",
       "      <td>50000</td>\n",
       "    </tr>\n",
       "    <tr>\n",
       "      <th>2</th>\n",
       "      <td>Senior Consultant</td>\n",
       "      <td>3</td>\n",
       "      <td>60000</td>\n",
       "    </tr>\n",
       "    <tr>\n",
       "      <th>3</th>\n",
       "      <td>Manager</td>\n",
       "      <td>4</td>\n",
       "      <td>80000</td>\n",
       "    </tr>\n",
       "    <tr>\n",
       "      <th>4</th>\n",
       "      <td>Country Manager</td>\n",
       "      <td>5</td>\n",
       "      <td>110000</td>\n",
       "    </tr>\n",
       "  </tbody>\n",
       "</table>\n",
       "</div>"
      ],
      "text/plain": [
       "            Position  Level  Salary\n",
       "0   Business Analyst      1   45000\n",
       "1  Junior Consultant      2   50000\n",
       "2  Senior Consultant      3   60000\n",
       "3            Manager      4   80000\n",
       "4    Country Manager      5  110000"
      ]
     },
     "execution_count": 71,
     "metadata": {},
     "output_type": "execute_result"
    }
   ],
   "source": [
    "dataset=pd.read_csv(\"Position_Salaries.csv\")\n",
    "dataset.head(5)"
   ]
  },
  {
   "cell_type": "code",
   "execution_count": 72,
   "id": "da635908",
   "metadata": {},
   "outputs": [],
   "source": [
    "X=dataset.iloc[:, 1:-1].values\n",
    "y=dataset.iloc[:, -1].values"
   ]
  },
  {
   "cell_type": "markdown",
   "id": "9b5dc441",
   "metadata": {},
   "source": [
    "# Training the linear Regression Model on whole Dataset"
   ]
  },
  {
   "cell_type": "code",
   "execution_count": 73,
   "id": "7f24f6e1",
   "metadata": {},
   "outputs": [
    {
     "data": {
      "text/plain": [
       "LinearRegression()"
      ]
     },
     "execution_count": 73,
     "metadata": {},
     "output_type": "execute_result"
    }
   ],
   "source": [
    "LinReg=LinearRegression()\n",
    "LinReg.fit(X,y)"
   ]
  },
  {
   "cell_type": "markdown",
   "id": "dbc13b70",
   "metadata": {},
   "source": [
    "# Training the Polynomial Regression Model on the whole Dataset"
   ]
  },
  {
   "cell_type": "code",
   "execution_count": 74,
   "id": "4a3624de",
   "metadata": {},
   "outputs": [],
   "source": [
    "from sklearn.preprocessing import PolynomialFeatures"
   ]
  },
  {
   "cell_type": "code",
   "execution_count": 75,
   "id": "a91e9b66",
   "metadata": {},
   "outputs": [
    {
     "data": {
      "text/plain": [
       "LinearRegression()"
      ]
     },
     "execution_count": 75,
     "metadata": {},
     "output_type": "execute_result"
    }
   ],
   "source": [
    "poly_reg=PolynomialFeatures(degree=4)\n",
    "X_Poly=poly_reg.fit_transform(X)\n",
    "LinReg2=LinearRegression()\n",
    "LinReg2.fit(X_Poly,y)"
   ]
  },
  {
   "cell_type": "markdown",
   "id": "dc911c53",
   "metadata": {},
   "source": [
    "# Visualising the Linear Regression results"
   ]
  },
  {
   "cell_type": "code",
   "execution_count": 76,
   "id": "e2639533",
   "metadata": {},
   "outputs": [
    {
     "data": {
      "text/plain": [
       "Text(0, 0.5, 'Salary')"
      ]
     },
     "execution_count": 76,
     "metadata": {},
     "output_type": "execute_result"
    },
    {
     "data": {
      "image/png": "[encoded data removed]",
      "text/plain": [
       "<Figure size 432x288 with 1 Axes>"
      ]
     },
     "metadata": {
      "needs_background": "light"
     },
     "output_type": "display_data"
    }
   ],
   "source": [
    "plt.scatter(X,y, color='r')\n",
    "plt.plot(X, LinReg.predict(X), color='b')\n",
    "plt.xlabel('Position')\n",
    "plt.ylabel('Salary')"
   ]
  },
  {
   "cell_type": "markdown",
   "id": "78a3907e",
   "metadata": {},
   "source": [
    "# Visualising the Polynomial Regression results"
   ]
  },
  {
   "cell_type": "code",
   "execution_count": 77,
   "id": "3379bdef",
   "metadata": {},
   "outputs": [
    {
     "data": {
      "image/png": "[encoded data removed]",
      "text/plain": [
       "<Figure size 432x288 with 1 Axes>"
      ]
     },
     "metadata": {
      "needs_background": "light"
     },
     "output_type": "display_data"
    }
   ],
   "source": [
    "plt.scatter(X, y, color='r')\n",
    "plt.plot(X, LinReg2.predict(poly_reg.fit_transform(X)), color='b')\n",
    "plt.xlabel('Position')\n",
    "plt.ylabel('Salary')\n",
    "plt.title('Bluff Checker')\n",
    "plt.show()"
   ]
  },
  {
   "cell_type": "markdown",
   "id": "b18c059e",
   "metadata": {},
   "source": [
    "# Visualising the Polynomial Regression results (Better Resolution and smooth curve)"
   ]
  },
  {
   "cell_type": "code",
   "execution_count": 78,
   "id": "f801f4bf",
   "metadata": {},
   "outputs": [
    {
     "data": {
      "image/png": "[encoded data removed]",
      "text/plain": [
       "<Figure size 432x288 with 1 Axes>"
      ]
     },
     "metadata": {
      "needs_background": "light"
     },
     "output_type": "display_data"
    }
   ],
   "source": [
    "x_grid=np.arange(min(X), max(X), 0.01)\n",
    "x_grid=x_grid.reshape(len(x_grid),1)\n",
    "plt.scatter(X, y, color='r')\n",
    "plt.plot(x_grid, LinReg2.predict(poly_reg.fit_transform(x_grid)), color='b')\n",
    "plt.xlabel('Position')\n",
    "plt.ylabel('Salary')\n",
    "plt.title('Bluff Checker')\n",
    "plt.show()"
   ]
  },
  {
   "cell_type": "markdown",
   "id": "ad986789",
   "metadata": {},
   "source": [
    "# Prediction using linear model"
   ]
  },
  {
   "cell_type": "code",
   "execution_count": 79,
   "id": "f5d91913",
   "metadata": {},
   "outputs": [
    {
     "name": "stdout",
     "output_type": "stream",
     "text": [
      "Predicted value of salary as per Linear Model is:  [330378.78787879]\n"
     ]
    }
   ],
   "source": [
    "t=LinReg.predict([[6.5]])\n",
    "print(\"Predicted value of salary as per Linear Model is: \",t)"
   ]
  },
  {
   "cell_type": "markdown",
   "id": "45ecf4a0",
   "metadata": {},
   "source": [
    "# Prediction using polynomial model"
   ]
  },
  {
   "cell_type": "code",
   "execution_count": 80,
   "id": "b4345094",
   "metadata": {},
   "outputs": [
    {
     "name": "stdout",
     "output_type": "stream",
     "text": [
      "Predicted value of salary as per Linear Model is:  [158862.45265153]\n"
     ]
    }
   ],
   "source": [
    "p=LinReg2.predict(poly_reg.fit_transform([[6.5]]))\n",
    "print(\"Predicted value of salary as per Linear Model is: \",p)"
   ]
  },
  {
   "cell_type": "markdown",
   "id": "fe61b762",
   "metadata": {},
   "source": [
    "# We have close enough value with polynomial Regression as claimed by the future employee and hence is honest with the salary expectations"
   ]
  }
 ],
 "metadata": {
  "kernelspec": {
   "display_name": "Python 3",
   "language": "python",
   "name": "python3"
  },
  "language_info": {
   "codemirror_mode": {
    "name": "ipython",
    "version": 3
   },
   "file_extension": ".py",
   "mimetype": "text/x-python",
   "name": "python",
   "nbconvert_exporter": "python",
   "pygments_lexer": "ipython3",
   "version": "3.8.8"
  }
 },
 "nbformat": 4,
 "nbformat_minor": 5
}
